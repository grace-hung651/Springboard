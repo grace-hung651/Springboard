{
 "cells": [
  {
   "cell_type": "markdown",
   "metadata": {},
   "source": [
    "This exercise will require you to pull some data from the Qunadl API. Qaundl is currently the most widely used aggregator of financial market data."
   ]
  },
  {
   "cell_type": "markdown",
   "metadata": {},
   "source": [
    "As a first step, you will need to register a free account on the http://www.quandl.com website."
   ]
  },
  {
   "cell_type": "markdown",
   "metadata": {},
   "source": [
    "After you register, you will be provided with a unique API key, that you should store:"
   ]
  },
  {
   "cell_type": "code",
   "execution_count": 3,
   "metadata": {},
   "outputs": [],
   "source": [
    "# Store the API key as a string - according to PEP8, constants are always named in all upper case\n",
    "API_KEY = 'Insert Your API Key Here'"
   ]
  },
  {
   "cell_type": "markdown",
   "metadata": {},
   "source": [
    "Qaundl has a large number of data sources, but, unfortunately, most of them require a Premium subscription. Still, there are also a good number of free datasets."
   ]
  },
  {
   "cell_type": "markdown",
   "metadata": {},
   "source": [
    "For this mini project, we will focus on equities data from the Frankfurt Stock Exhange (FSE), which is available for free. We'll try and analyze the stock prices of a company called Carl Zeiss Meditec, which manufactures tools for eye examinations, as well as medical lasers for laser eye surgery: https://www.zeiss.com/meditec/int/home.html. The company is listed under the stock ticker AFX_X."
   ]
  },
  {
   "cell_type": "markdown",
   "metadata": {},
   "source": [
    "You can find the detailed Quandl API instructions here: https://docs.quandl.com/docs/time-series"
   ]
  },
  {
   "cell_type": "markdown",
   "metadata": {},
   "source": [
    "While there is a dedicated Python package for connecting to the Quandl API, we would prefer that you use the *requests* package, which can be easily downloaded using *pip* or *conda*. You can find the documentation for the package here: http://docs.python-requests.org/en/master/ "
   ]
  },
  {
   "cell_type": "markdown",
   "metadata": {},
   "source": [
    "Finally, apart from the *requests* package, you are encouraged to not use any third party Python packages, such as *pandas*, and instead focus on what's available in the Python Standard Library (the *collections* module might come in handy: https://pymotw.com/3/collections/ ).\n",
    "Also, since you won't have access to DataFrames, you are encouraged to us Python's native data structures - preferably dictionaries, though some questions can also be answered using lists.\n",
    "You can read more on these data structures here: https://docs.python.org/3/tutorial/datastructures.html"
   ]
  },
  {
   "cell_type": "markdown",
   "metadata": {},
   "source": [
    "Keep in mind that the JSON responses you will be getting from the API map almost one-to-one to Python's dictionaries. Unfortunately, they can be very nested, so make sure you read up on indexing dictionaries in the documentation provided above."
   ]
  },
  {
   "cell_type": "code",
   "execution_count": 4,
   "metadata": {},
   "outputs": [],
   "source": [
    "# First, import the relevant modules\n",
    "import requests\n"
   ]
  },
  {
   "cell_type": "code",
   "execution_count": 34,
   "metadata": {},
   "outputs": [
    {
     "name": "stdout",
     "output_type": "stream",
     "text": [
      "{'dataset_data': {'limit': None, 'transform': None, 'column_index': None, 'column_names': ['Date', 'Open', 'High', 'Low', 'Close', 'Change', 'Traded Volume', 'Turnover', 'Last Price of the Day', 'Daily Traded Units', 'Daily Turnover'], 'start_date': '2020-03-03', 'end_date': '2020-03-03', 'frequency': 'daily', 'data': [['2020-03-03', 97.1, 99.9, 95.55, 98.05, None, 435677.0, 42953287.0, None, None, None]], 'collapse': None, 'order': None}}\n"
     ]
    }
   ],
   "source": [
    "# Now, call the Quandl API and pull out a small sample of the data (only one day) to get a glimpse\n",
    "# into the JSON structure that will be returned\n",
    "\n",
    "# https://docs.quandl.com/docs/in-depth-usage\n",
    "# Definition: GET https://www.quandl.com/api/v3/datasets/{database_code}/{dataset_code}/data.{return_format}\n",
    "# database_code: FSE\n",
    "# dataset_code: AFX_X\n",
    "\n",
    "url= 'https://www.quandl.com/api/v3/datasets/FSE/AFX_X/data.json'\n",
    "\n",
    "# using dictionary\n",
    "# params= {'api_key': API_KEY, 'start_date' :'2020-03-03', 'end_date':'2020-03-03'}\n",
    "\n",
    "# using dict() constructor \n",
    "params= dict(key=API_KEY, start_date= '2020-03-03', end_date='2020-03-03')\n",
    "\n",
    "r = requests.get(url,params=params)\n",
    "\n",
    "json_data=r.json()\n",
    "\n",
    "print(json_data)\n"
   ]
  },
  {
   "cell_type": "code",
   "execution_count": null,
   "metadata": {
    "collapsed": true
   },
   "outputs": [],
   "source": [
    "# Inspect the JSON structure of the object you created, and take note of how nested it is,\n",
    "# as well as the overall structure\n"
   ]
  },
  {
   "cell_type": "code",
   "execution_count": 25,
   "metadata": {},
   "outputs": [
    {
     "data": {
      "text/plain": [
       "dict"
      ]
     },
     "execution_count": 25,
     "metadata": {},
     "output_type": "execute_result"
    }
   ],
   "source": [
    "type(json_data)\n"
   ]
  },
  {
   "cell_type": "code",
   "execution_count": 26,
   "metadata": {},
   "outputs": [
    {
     "data": {
      "text/plain": [
       "dict_keys(['dataset_data'])"
      ]
     },
     "execution_count": 26,
     "metadata": {},
     "output_type": "execute_result"
    }
   ],
   "source": [
    "json_data.keys()"
   ]
  },
  {
   "cell_type": "code",
   "execution_count": 16,
   "metadata": {},
   "outputs": [
    {
     "data": {
      "text/plain": [
       "{'limit': None,\n",
       " 'transform': None,\n",
       " 'column_index': None,\n",
       " 'column_names': ['Date',\n",
       "  'Open',\n",
       "  'High',\n",
       "  'Low',\n",
       "  'Close',\n",
       "  'Change',\n",
       "  'Traded Volume',\n",
       "  'Turnover',\n",
       "  'Last Price of the Day',\n",
       "  'Daily Traded Units',\n",
       "  'Daily Turnover'],\n",
       " 'start_date': '2020-09-23',\n",
       " 'end_date': '2020-09-23',\n",
       " 'frequency': 'daily',\n",
       " 'data': [['2020-09-23',\n",
       "   101.0,\n",
       "   101.7,\n",
       "   100.6,\n",
       "   101.7,\n",
       "   None,\n",
       "   368.0,\n",
       "   37374.3,\n",
       "   None,\n",
       "   None,\n",
       "   None]],\n",
       " 'collapse': None,\n",
       " 'order': None}"
      ]
     },
     "execution_count": 16,
     "metadata": {},
     "output_type": "execute_result"
    }
   ],
   "source": [
    "json_data['dataset_data']"
   ]
  },
  {
   "cell_type": "code",
   "execution_count": 27,
   "metadata": {},
   "outputs": [
    {
     "data": {
      "text/plain": [
       "dict_keys(['limit', 'transform', 'column_index', 'column_names', 'start_date', 'end_date', 'frequency', 'data', 'collapse', 'order'])"
      ]
     },
     "execution_count": 27,
     "metadata": {},
     "output_type": "execute_result"
    }
   ],
   "source": [
    "json_data['dataset_data'].keys()"
   ]
  },
  {
   "cell_type": "code",
   "execution_count": 28,
   "metadata": {},
   "outputs": [
    {
     "data": {
      "text/plain": [
       "[['2020-03-03',\n",
       "  97.1,\n",
       "  99.9,\n",
       "  95.55,\n",
       "  98.05,\n",
       "  None,\n",
       "  435677.0,\n",
       "  42953287.0,\n",
       "  None,\n",
       "  None,\n",
       "  None]]"
      ]
     },
     "execution_count": 28,
     "metadata": {},
     "output_type": "execute_result"
    }
   ],
   "source": [
    "json_data['dataset_data']['data']"
   ]
  },
  {
   "cell_type": "code",
   "execution_count": 29,
   "metadata": {},
   "outputs": [
    {
     "data": {
      "text/plain": [
       "99.9"
      ]
     },
     "execution_count": 29,
     "metadata": {},
     "output_type": "execute_result"
    }
   ],
   "source": [
    "# getting at High price\n",
    "json_data['dataset_data']['data'][0][2]"
   ]
  },
  {
   "cell_type": "markdown",
   "metadata": {},
   "source": [
    "These are your tasks for this mini project:\n",
    "\n",
    "1. Collect data from the Franfurt Stock Exchange, for the ticker AFX_X, for the whole year 2017 (keep in mind that the date format is YYYY-MM-DD).\n",
    "2. Convert the returned JSON object into a Python dictionary.\n",
    "3. Calculate what the highest and lowest opening prices were for the stock in this period.\n",
    "4. What was the largest change in any one day (based on High and Low price)?\n",
    "5. What was the largest change between any two days (based on Closing Price)?\n",
    "6. What was the average daily trading volume during this year?\n",
    "7. (Optional) What was the median trading volume during this year. (Note: you may need to implement your own function for calculating the median.)"
   ]
  },
  {
   "cell_type": "code",
   "execution_count": 35,
   "metadata": {},
   "outputs": [],
   "source": [
    "#Task 1: Collect data from the Franfurt Stock Exchange, for the ticker AFX_X, for the whole year 2017 (keep in mind that the date format is YYYY-MM-DD).\n",
    "url= 'https://www.quandl.com/api/v3/datasets/FSE/AFX_X/data.json'\n",
    "params= dict(key=API_KEY, start_date= '2017-01-01', end_date='2017-12-31')\n",
    "r = requests.get(url,params=params)\n",
    "json_data=r.json()\n"
   ]
  },
  {
   "cell_type": "code",
   "execution_count": 40,
   "metadata": {},
   "outputs": [
    {
     "name": "stdout",
     "output_type": "stream",
     "text": [
      "['Date', 'Open', 'High', 'Low', 'Close', 'Change', 'Traded Volume', 'Turnover', 'Last Price of the Day', 'Daily Traded Units', 'Daily Turnover']\n"
     ]
    }
   ],
   "source": [
    "#Task 2: Convert the returned JSON object into a Python dictionary.\n",
    "\n",
    "# Taking out column names\n",
    "metric = json_data['dataset_data']['column_names']\n",
    "print(metric)\n",
    "\n"
   ]
  },
  {
   "cell_type": "code",
   "execution_count": 45,
   "metadata": {},
   "outputs": [
    {
     "data": {
      "text/plain": [
       "list"
      ]
     },
     "execution_count": 45,
     "metadata": {},
     "output_type": "execute_result"
    }
   ],
   "source": [
    "# taking data from each day and putting into list\n",
    "\n",
    "data = json_data['dataset_data']['data']\n",
    "\n",
    "type(data)\n",
    "\n",
    "# print(data)\n"
   ]
  },
  {
   "cell_type": "code",
   "execution_count": 61,
   "metadata": {},
   "outputs": [
    {
     "name": "stdout",
     "output_type": "stream",
     "text": [
      "Highest opening price for AFX_X in 2017: 53.11\n",
      "Lowest opening price for AFX_X in 2017: 34.0\n",
      "53.11\n",
      "34.0\n"
     ]
    }
   ],
   "source": [
    "# Task 3: Calculate what the highest and lowest opening prices were for the stock in this period.\n",
    "# Focusing on grabbing opening prices, index 1\n",
    "\n",
    "opening = []\n",
    "\n",
    "for i in range(len(data)):\n",
    "    if data[i][1] != None:\n",
    "        opening.append(data[i][1])\n",
    "\n",
    "#print(opening)\n",
    "print('Highest opening price for AFX_X in 2017:', max(opening))\n",
    "print('Lowest opening price for AFX_X in 2017:' , min(opening))\n",
    "\n",
    "#trying sorted list method\n",
    "#print(opening)\n",
    "openingsort = sorted(opening)\n",
    "#print(openingsort)\n",
    "print(openingsort[-1])\n",
    "print(openingsort[0])\n",
    "\n"
   ]
  },
  {
   "cell_type": "code",
   "execution_count": 67,
   "metadata": {},
   "outputs": [
    {
     "name": "stdout",
     "output_type": "stream",
     "text": [
      "2.8100000000000023\n"
     ]
    }
   ],
   "source": [
    "#Task 4: What was the largest change in any one day (based on High and Low price)?\n",
    "# index for high:2 , index for low: 3\n",
    "#calculate difference between daily high and low price and put in list\n",
    "\n",
    "change = []\n",
    "\n",
    "for i in range(len(data)):\n",
    "    if data[i][2] and data[i][3] != None:\n",
    "        change.append(abs(data[i][2]-data[i][3]))\n",
    "        \n",
    "#print(change)\n",
    "                      \n",
    "print(max(change))\n",
    "        "
   ]
  },
  {
   "cell_type": "code",
   "execution_count": 68,
   "metadata": {},
   "outputs": [
    {
     "name": "stdout",
     "output_type": "stream",
     "text": [
      "2.559999999999995\n"
     ]
    }
   ],
   "source": [
    "#Task 5: What was the largest change between any two days (based on Closing Price)?\n",
    "# closing price index:4\n",
    "\n",
    "closing = []\n",
    "\n",
    "for i in range(len(data)-1):\n",
    "    if data[i][4] and data[i+1][4] != None:\n",
    "        closing.append(abs(data[i][4]-data[i+1][4]))\n",
    "        \n",
    "#print(change)\n",
    "                      \n",
    "print(max(closing))\n"
   ]
  },
  {
   "cell_type": "code",
   "execution_count": 70,
   "metadata": {},
   "outputs": [
    {
     "name": "stdout",
     "output_type": "stream",
     "text": [
      "89124.33725490196\n"
     ]
    }
   ],
   "source": [
    "# Task 6: What was the average daily trading volume during this year?\n",
    "# Traded volume index: 6\n",
    "\n",
    "vol= []\n",
    "\n",
    "for i in range(len(data)):\n",
    "    if data[i][6] != None:\n",
    "        vol.append(data[i][6])\n",
    "        \n",
    "#print(vol)\n",
    "                      \n",
    "print(sum(vol)/len(vol))\n",
    "\n"
   ]
  },
  {
   "cell_type": "code",
   "execution_count": 94,
   "metadata": {},
   "outputs": [
    {
     "name": "stdout",
     "output_type": "stream",
     "text": [
      "76286.0\n"
     ]
    }
   ],
   "source": [
    "# Task 7: What was the median trading volume during this year. (Note: you may need to implement your own function for calculating the median.)\n",
    "\n",
    "volsorted= sorted(vol)\n",
    "\n",
    "#print(volsorted)\n",
    "\n",
    "# first case if need to take the average of two numbers for even number of observances\n",
    "\n",
    "if len(volsorted) % 2 == 0:\n",
    "    volsorted[int(len(volsorted)/2)] + volsorted[int(len(volsorted)/2 -1)]/2\n",
    "else:\n",
    "    print(volsorted[int(len(volsorted)/2)])\n",
    "\n",
    "    \n"
   ]
  },
  {
   "cell_type": "code",
   "execution_count": null,
   "metadata": {},
   "outputs": [],
   "source": []
  }
 ],
 "metadata": {
  "kernelspec": {
   "display_name": "Python 3",
   "language": "python",
   "name": "python3"
  },
  "language_info": {
   "codemirror_mode": {
    "name": "ipython",
    "version": 3
   },
   "file_extension": ".py",
   "mimetype": "text/x-python",
   "name": "python",
   "nbconvert_exporter": "python",
   "pygments_lexer": "ipython3",
   "version": "3.8.3"
  }
 },
 "nbformat": 4,
 "nbformat_minor": 2
}
